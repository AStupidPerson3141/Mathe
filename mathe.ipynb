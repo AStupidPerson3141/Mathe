{
 "cells": [
  {
   "cell_type": "code",
   "execution_count": 5,
   "metadata": {},
   "outputs": [
    {
     "name": "stdout",
     "output_type": "stream",
     "text": [
      "hello world\n"
     ]
    }
   ],
   "source": [
    "import matplotlib.pyplot as plt\n",
    "import numpy as np\n",
    "\n",
    "won = input(\"Aktion: ('help für information') \")\n",
    "while True:\n",
    "    \n",
    "    if won.lower() in [\"help\", \"helü\"]:\n",
    "        print(\"\\n'help-ACTION': gibt detailiertere Angaben zur Aktion\\n'Zentrische Streckung/zs': gebe zwei punke und einen Faktor an, und bekomme den gestreckten punkt\\'anfrage':schreibe eine Nachricht, die ich dann sehe (wenn ihr eure file hochladed (siehe mein Video))\" )\n",
    "        break\n",
    "    elif won.lower() in [\"fuck\", \"flip\", \"f*ck\", \"frick\"]:\n",
    "        print(\"ihr sollted nicht hier sein.\\nNEWS:\\n1: Aktionen hinzufügen\")\n",
    "        break\n",
    "    elif won.lower() in [\"stop\", \"nein\", \"n\", \"wieso lest ihr euch das durch? Dashier hält keine nötigen informationen für euch (es seiden ihr wollt mich trollen.) demnach kann ich sagen, dass ihr das hier hoffentlich rauskopiert habt, und nicht abschreibt. tschüss!\"]:\n",
    "        break\n",
    "    else:\n",
    "        pass\n",
    "\n",
    "        print(\"hello world\")\n",
    "    \n",
    "    if won.lower() in [\"zentrische strekcung\", \"zentrische streckung\", \"zs\", \"zentrische s\", \"z streckung\", \"das komische ding da...\"]:\n",
    "        npv1 = input(\"koordinaten des Ersten Punktes:(Bsp.: (1, 2)) \").split(\", \")\n",
    "        npv2 = input(\"koordinaten des Zentrums\").split(\", \")\n",
    "        factor = float(input(\"welcher Faktor?\"))\n",
    "        cox = [float(npv1[0])]\n",
    "        coy = [float(npv1[1])]\n",
    "        zx = [float(npv2[0])]\n",
    "        zy = [float(npv2[1])]\n",
    "        vx = (cox[0]-zx[0])*factor\n",
    "        vy = (coy[0]-zy[0])*factor\n",
    "        npx = [zx[0]+vx]\n",
    "        npy = [zy[0]+vy]\n",
    "        plt.plot(cox, coy, marker=\"o\", markeredgecolor=\"black\")\n",
    "        plt.plot(zx, zy, marker=\"o\", markeredgecolor=\"black\")\n",
    "        plt.plot(npx, npy, marker=\"o\", markeredgecolor=\"black\")\n",
    "        plt.show()\n",
    "    \n",
    "    if won.lower() in [\"anfrage\", \"a\", \"angrage\"]:\n",
    "        message = input(\"was willst du melden? \")\n",
    "        original = open(\"client.txt\", \"r\")\n",
    "        read = original.read()\n",
    "        open(\"client.txt\", \"w\").write(read+f\"\\n{message}\")\n",
    "\n",
    "    \n",
    "    won = input(\"nochmal? ('help' für mehr info)\")\n",
    "    if won in [\"stop\", \"nein\", \"n\", \"wieso lest ihr euch das durch? Dashier hält keine nötigen informationen für euch (es seiden ihr wollt mich trollen.) demnach kann ich sagen, dass ihr das hier hoffentlich rauskopiert habt, und nicht abschreibt. tschüss!\"]:\n",
    "        break\n",
    "    else: \n",
    "        continue"
   ]
  }
 ],
 "metadata": {
  "kernelspec": {
   "display_name": "Python 3",
   "language": "python",
   "name": "python3"
  },
  "language_info": {
   "codemirror_mode": {
    "name": "ipython",
    "version": 3
   },
   "file_extension": ".py",
   "mimetype": "text/x-python",
   "name": "python",
   "nbconvert_exporter": "python",
   "pygments_lexer": "ipython3",
   "version": "3.10.13"
  }
 },
 "nbformat": 4,
 "nbformat_minor": 2
}
