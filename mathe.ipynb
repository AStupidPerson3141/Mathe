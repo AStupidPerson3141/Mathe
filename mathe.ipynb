{
 "cells": [
  {
   "cell_type": "code",
   "execution_count": null,
   "metadata": {},
   "outputs": [],
   "source": [
    "won = input(\"Aktion: ('help für information') \")\n",
    "\n",
    "if won.lower() in [\"help\", \"helü\"]:\n",
    "    print(\"NOT SATISFIED (schreibt mich an. ich hab vergessen dass hier auszufüllen/ihr seid\\n gerade erst drauf)\")\n",
    "elif won.lower() in [\"fuck\", \"flip\", \"f*ck\", \"frick\"]:\n",
    "    print(\"ihr sollted nicht hier sein.\\nNEWS:\\n1: Aktionen hinzufügen\")\n",
    "else:\n",
    "    pass\n"
   ]
  }
 ],
 "metadata": {
  "language_info": {
   "name": "python"
  }
 },
 "nbformat": 4,
 "nbformat_minor": 2
}
