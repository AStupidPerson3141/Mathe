{
 "cells": [
  {
   "cell_type": "code",
   "execution_count": 4,
   "metadata": {},
   "outputs": [
    {
     "name": "stdout",
     "output_type": "stream",
     "text": [
      "NOT SATISFIED (schreibt mich an. ich hab vergessen dass hier auszufüllen/ihr seid\n",
      " gerade erst drauf)\n"
     ]
    }
   ],
   "source": [
    "won = input(\"Aktion: ('help für information') \")\n",
    "\n",
    "if won.lower() in [\"help\", \"helü\"]:\n",
    "    print(\"NOT SATISFIED (schreibt mich an. ich hab vergessen dass hier auszufüllen/ihr seid\\n gerade erst drauf)\")\n",
    "    won = 0\n",
    "elif won.lower() in [\"fuck\", \"flip\", \"f*ck\", \"frick\"]:\n",
    "    print(\"ihr sollted nicht hier sein.\\nNEWS:\\n1: Aktionen hinzufügen\")\n",
    "    won = 0\n",
    "elif won.lower() in [\"stop\", \"nein\", \"n\", \"wieso lest ihr euch das durch? Dashier hält keine nötigen informationen für euch (es seiden ihr wollt mich trollen.) demnach kann ich sagen, dass ihr das hier hoffentlich rauskopiert habt, und nicht abschreibt. tschüss!\"]:\n",
    "    won = 0\n",
    "else:\n",
    "    won = 1\n",
    "\n",
    "while won == 1:\n",
    "    print(\"hello world\")\n",
    "    won = input(\"nochmal? ('help für hilfe')\")\n",
    "    if won.lower() in [\"stop\", \"nein\", \"n\", \"wieso lest ihr euch das durch? Dashier hält keine nötigen informationen für euch (es seiden ihr wollt mich trollen.) demnach kann ich sagen, dass ihr das hier hoffentlich rauskopiert habt, und nicht abschreibt. tschüss!\"]:\n",
    "        won = 0\n",
    "    else:\n",
    "        won = 1"
   ]
  }
 ],
 "metadata": {
  "kernelspec": {
   "display_name": "Python 3",
   "language": "python",
   "name": "python3"
  },
  "language_info": {
   "codemirror_mode": {
    "name": "ipython",
    "version": 3
   },
   "file_extension": ".py",
   "mimetype": "text/x-python",
   "name": "python",
   "nbconvert_exporter": "python",
   "pygments_lexer": "ipython3",
   "version": "3.10.13"
  }
 },
 "nbformat": 4,
 "nbformat_minor": 2
}
